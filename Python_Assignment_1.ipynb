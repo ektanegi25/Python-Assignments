{
  "nbformat": 4,
  "nbformat_minor": 0,
  "metadata": {
    "colab": {
      "provenance": []
    },
    "kernelspec": {
      "name": "python3",
      "display_name": "Python 3"
    },
    "language_info": {
      "name": "python"
    }
  },
  "cells": [
    {
      "cell_type": "markdown",
      "source": [
        "# Explain the key features of Python that make it a popular choice for programming\n",
        "\n",
        "\n",
        "\n",
        "1.   List item\n",
        "\n",
        "*   List item\n",
        "*   List item\n",
        "\n",
        "\n",
        "2.   List item\n",
        "\n"
      ],
      "metadata": {
        "id": "yZ77lJ3pc11j"
      }
    },
    {
      "cell_type": "code",
      "source": [],
      "metadata": {
        "id": "29Ez4uJ2c-Nd"
      },
      "execution_count": null,
      "outputs": []
    }
  ]
}